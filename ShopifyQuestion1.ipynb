{
  "cells": [
    {
      "cell_type": "markdown",
      "metadata": {
        "id": "view-in-github",
        "colab_type": "text"
      },
      "source": [
        "<a href=\"https://colab.research.google.com/github/nvyas1-git/TestRepo/blob/main/ShopifyQuestion1.ipynb\" target=\"_parent\"><img src=\"https://colab.research.google.com/assets/colab-badge.svg\" alt=\"Open In Colab\"/></a>"
      ]
    },
    {
      "cell_type": "markdown",
      "source": [
        "Question 1: Given some sample data, write a program to answer the following: click here to access the required data set\n",
        "\n",
        "On Shopify, we have exactly 100 sneaker shops, and each of these shops sells only one model of shoe. We want to do some analysis of the average order value (AOV). When we look at orders data over a 30 day window, we naively calculate an AOV of $3145.13. Given that we know these shops are selling sneakers, a relatively affordable item, something seems wrong with our analysis. \n",
        "\n",
        "Think about what could be going wrong with our calculation. Think about a better way to evaluate this data. \n",
        "What metric would you report for this dataset?\n",
        "What is its value?\n"
      ],
      "metadata": {
        "id": "vTaTioK89c6T"
      },
      "id": "vTaTioK89c6T"
    },
    {
      "cell_type": "markdown",
      "source": [
        "___Exploratory Analysis:___\n",
        "- The feature 'order_amount' was total amount of sneakers bought together, so dividing the order_amount by 'total_item' was required. \n",
        "- Dividing the 'order_amount' by 'total_item', can not be a good practice because what if one sneaker is very expensive but other is very cheap. The grouping of sneakers by the brand can be done. In this data, the brands are not specified so calcutaing the 'order_amount' by dividing it with 'total_item'\n",
        "- The average order value (AOV) of the order_amount for 5000 sneakers is 3145.\n",
        "- Only 46 out of 5000 sneakers has the order_amount greater than 388.\n",
        "- Majority of sneakers fall in the range of 90 - 170.\n",
        "\n",
        "___Conclusion:___\n",
        "- Since 75% of the population ranges from 90 - 170, the median metric is preferable central tendency point. \n",
        "- Average (Mean) can be used when the sneakers are grouped by brands.\n",
        "- Further, checking the distrubution, the analysis can also be done by segmenting the sneakers into three categories (Lower, Middle, Higher) and then their average can give us a clear picture."
      ],
      "metadata": {
        "id": "G_PhfuUicZ9i"
      },
      "id": "G_PhfuUicZ9i"
    },
    {
      "cell_type": "code",
      "execution_count": 1,
      "id": "f62c1eb9",
      "metadata": {
        "id": "f62c1eb9"
      },
      "outputs": [],
      "source": [
        "import numpy as np\n",
        "import pandas as pd\n",
        "import matplotlib.pyplot as plt\n",
        "import seaborn as sns"
      ]
    },
    {
      "cell_type": "code",
      "source": [
        "ordersDf = pd.read_csv('2019 Winter Data Science Intern Challenge Data Set - Sheet1.csv')"
      ],
      "metadata": {
        "id": "lIdjVVfIcZcb"
      },
      "id": "lIdjVVfIcZcb",
      "execution_count": 2,
      "outputs": []
    },
    {
      "cell_type": "code",
      "source": [
        "ordersDf.head()"
      ],
      "metadata": {
        "colab": {
          "base_uri": "https://localhost:8080/",
          "height": 206
        },
        "id": "zd6jZs6Icimc",
        "outputId": "450c0f48-b2b1-4ed8-d0ca-5841446bbc56"
      },
      "id": "zd6jZs6Icimc",
      "execution_count": 3,
      "outputs": [
        {
          "output_type": "execute_result",
          "data": {
            "text/plain": [
              "   order_id  shop_id  user_id  order_amount  total_items payment_method  \\\n",
              "0         1       53      746           224            2           cash   \n",
              "1         2       92      925            90            1           cash   \n",
              "2         3       44      861           144            1           cash   \n",
              "3         4       18      935           156            1    credit_card   \n",
              "4         5       18      883           156            1    credit_card   \n",
              "\n",
              "            created_at  \n",
              "0  2017-03-13 12:36:56  \n",
              "1  2017-03-03 17:38:52  \n",
              "2   2017-03-14 4:23:56  \n",
              "3  2017-03-26 12:43:37  \n",
              "4   2017-03-01 4:35:11  "
            ],
            "text/html": [
              "\n",
              "  <div id=\"df-edf0e755-1d45-4449-8477-f0706dbf73e8\">\n",
              "    <div class=\"colab-df-container\">\n",
              "      <div>\n",
              "<style scoped>\n",
              "    .dataframe tbody tr th:only-of-type {\n",
              "        vertical-align: middle;\n",
              "    }\n",
              "\n",
              "    .dataframe tbody tr th {\n",
              "        vertical-align: top;\n",
              "    }\n",
              "\n",
              "    .dataframe thead th {\n",
              "        text-align: right;\n",
              "    }\n",
              "</style>\n",
              "<table border=\"1\" class=\"dataframe\">\n",
              "  <thead>\n",
              "    <tr style=\"text-align: right;\">\n",
              "      <th></th>\n",
              "      <th>order_id</th>\n",
              "      <th>shop_id</th>\n",
              "      <th>user_id</th>\n",
              "      <th>order_amount</th>\n",
              "      <th>total_items</th>\n",
              "      <th>payment_method</th>\n",
              "      <th>created_at</th>\n",
              "    </tr>\n",
              "  </thead>\n",
              "  <tbody>\n",
              "    <tr>\n",
              "      <th>0</th>\n",
              "      <td>1</td>\n",
              "      <td>53</td>\n",
              "      <td>746</td>\n",
              "      <td>224</td>\n",
              "      <td>2</td>\n",
              "      <td>cash</td>\n",
              "      <td>2017-03-13 12:36:56</td>\n",
              "    </tr>\n",
              "    <tr>\n",
              "      <th>1</th>\n",
              "      <td>2</td>\n",
              "      <td>92</td>\n",
              "      <td>925</td>\n",
              "      <td>90</td>\n",
              "      <td>1</td>\n",
              "      <td>cash</td>\n",
              "      <td>2017-03-03 17:38:52</td>\n",
              "    </tr>\n",
              "    <tr>\n",
              "      <th>2</th>\n",
              "      <td>3</td>\n",
              "      <td>44</td>\n",
              "      <td>861</td>\n",
              "      <td>144</td>\n",
              "      <td>1</td>\n",
              "      <td>cash</td>\n",
              "      <td>2017-03-14 4:23:56</td>\n",
              "    </tr>\n",
              "    <tr>\n",
              "      <th>3</th>\n",
              "      <td>4</td>\n",
              "      <td>18</td>\n",
              "      <td>935</td>\n",
              "      <td>156</td>\n",
              "      <td>1</td>\n",
              "      <td>credit_card</td>\n",
              "      <td>2017-03-26 12:43:37</td>\n",
              "    </tr>\n",
              "    <tr>\n",
              "      <th>4</th>\n",
              "      <td>5</td>\n",
              "      <td>18</td>\n",
              "      <td>883</td>\n",
              "      <td>156</td>\n",
              "      <td>1</td>\n",
              "      <td>credit_card</td>\n",
              "      <td>2017-03-01 4:35:11</td>\n",
              "    </tr>\n",
              "  </tbody>\n",
              "</table>\n",
              "</div>\n",
              "      <button class=\"colab-df-convert\" onclick=\"convertToInteractive('df-edf0e755-1d45-4449-8477-f0706dbf73e8')\"\n",
              "              title=\"Convert this dataframe to an interactive table.\"\n",
              "              style=\"display:none;\">\n",
              "        \n",
              "  <svg xmlns=\"http://www.w3.org/2000/svg\" height=\"24px\"viewBox=\"0 0 24 24\"\n",
              "       width=\"24px\">\n",
              "    <path d=\"M0 0h24v24H0V0z\" fill=\"none\"/>\n",
              "    <path d=\"M18.56 5.44l.94 2.06.94-2.06 2.06-.94-2.06-.94-.94-2.06-.94 2.06-2.06.94zm-11 1L8.5 8.5l.94-2.06 2.06-.94-2.06-.94L8.5 2.5l-.94 2.06-2.06.94zm10 10l.94 2.06.94-2.06 2.06-.94-2.06-.94-.94-2.06-.94 2.06-2.06.94z\"/><path d=\"M17.41 7.96l-1.37-1.37c-.4-.4-.92-.59-1.43-.59-.52 0-1.04.2-1.43.59L10.3 9.45l-7.72 7.72c-.78.78-.78 2.05 0 2.83L4 21.41c.39.39.9.59 1.41.59.51 0 1.02-.2 1.41-.59l7.78-7.78 2.81-2.81c.8-.78.8-2.07 0-2.86zM5.41 20L4 18.59l7.72-7.72 1.47 1.35L5.41 20z\"/>\n",
              "  </svg>\n",
              "      </button>\n",
              "      \n",
              "  <style>\n",
              "    .colab-df-container {\n",
              "      display:flex;\n",
              "      flex-wrap:wrap;\n",
              "      gap: 12px;\n",
              "    }\n",
              "\n",
              "    .colab-df-convert {\n",
              "      background-color: #E8F0FE;\n",
              "      border: none;\n",
              "      border-radius: 50%;\n",
              "      cursor: pointer;\n",
              "      display: none;\n",
              "      fill: #1967D2;\n",
              "      height: 32px;\n",
              "      padding: 0 0 0 0;\n",
              "      width: 32px;\n",
              "    }\n",
              "\n",
              "    .colab-df-convert:hover {\n",
              "      background-color: #E2EBFA;\n",
              "      box-shadow: 0px 1px 2px rgba(60, 64, 67, 0.3), 0px 1px 3px 1px rgba(60, 64, 67, 0.15);\n",
              "      fill: #174EA6;\n",
              "    }\n",
              "\n",
              "    [theme=dark] .colab-df-convert {\n",
              "      background-color: #3B4455;\n",
              "      fill: #D2E3FC;\n",
              "    }\n",
              "\n",
              "    [theme=dark] .colab-df-convert:hover {\n",
              "      background-color: #434B5C;\n",
              "      box-shadow: 0px 1px 3px 1px rgba(0, 0, 0, 0.15);\n",
              "      filter: drop-shadow(0px 1px 2px rgba(0, 0, 0, 0.3));\n",
              "      fill: #FFFFFF;\n",
              "    }\n",
              "  </style>\n",
              "\n",
              "      <script>\n",
              "        const buttonEl =\n",
              "          document.querySelector('#df-edf0e755-1d45-4449-8477-f0706dbf73e8 button.colab-df-convert');\n",
              "        buttonEl.style.display =\n",
              "          google.colab.kernel.accessAllowed ? 'block' : 'none';\n",
              "\n",
              "        async function convertToInteractive(key) {\n",
              "          const element = document.querySelector('#df-edf0e755-1d45-4449-8477-f0706dbf73e8');\n",
              "          const dataTable =\n",
              "            await google.colab.kernel.invokeFunction('convertToInteractive',\n",
              "                                                     [key], {});\n",
              "          if (!dataTable) return;\n",
              "\n",
              "          const docLinkHtml = 'Like what you see? Visit the ' +\n",
              "            '<a target=\"_blank\" href=https://colab.research.google.com/notebooks/data_table.ipynb>data table notebook</a>'\n",
              "            + ' to learn more about interactive tables.';\n",
              "          element.innerHTML = '';\n",
              "          dataTable['output_type'] = 'display_data';\n",
              "          await google.colab.output.renderOutput(dataTable, element);\n",
              "          const docLink = document.createElement('div');\n",
              "          docLink.innerHTML = docLinkHtml;\n",
              "          element.appendChild(docLink);\n",
              "        }\n",
              "      </script>\n",
              "    </div>\n",
              "  </div>\n",
              "  "
            ]
          },
          "metadata": {},
          "execution_count": 3
        }
      ]
    },
    {
      "cell_type": "code",
      "source": [
        "# Not affecting the raw data\n",
        "ordersDf_new = ordersDf"
      ],
      "metadata": {
        "id": "c2wPc_rPcijC"
      },
      "id": "c2wPc_rPcijC",
      "execution_count": 4,
      "outputs": []
    },
    {
      "cell_type": "code",
      "source": [
        "ordersDf_new['actual_order_amount'] = ordersDf_new['order_amount']/ordersDf_new['total_items']"
      ],
      "metadata": {
        "id": "buf7eoQBcig0"
      },
      "id": "buf7eoQBcig0",
      "execution_count": 5,
      "outputs": []
    },
    {
      "cell_type": "code",
      "source": [
        "ordersDf_new['actual_order_amount'].describe()"
      ],
      "metadata": {
        "colab": {
          "base_uri": "https://localhost:8080/"
        },
        "id": "V7cXUSx6cnqR",
        "outputId": "0a0cdbdc-250c-405f-eb88-3201c6e6de02"
      },
      "id": "V7cXUSx6cnqR",
      "execution_count": 6,
      "outputs": [
        {
          "output_type": "execute_result",
          "data": {
            "text/plain": [
              "count     5000.000000\n",
              "mean       387.742800\n",
              "std       2441.963725\n",
              "min         90.000000\n",
              "25%        133.000000\n",
              "50%        153.000000\n",
              "75%        169.000000\n",
              "max      25725.000000\n",
              "Name: actual_order_amount, dtype: float64"
            ]
          },
          "metadata": {},
          "execution_count": 6
        }
      ]
    },
    {
      "cell_type": "code",
      "source": [
        "# Getting the number of observation greater than mean\n",
        "m = ordersDf_new['actual_order_amount'].mean()\n",
        "num = ordersDf_new[ordersDf_new.actual_order_amount>m].shape[0]\n",
        "print('Observations greater than AOV: ', num)"
      ],
      "metadata": {
        "colab": {
          "base_uri": "https://localhost:8080/"
        },
        "id": "2ycx4jencplc",
        "outputId": "1128d0dc-d4be-438b-d536-f93972a4b977"
      },
      "id": "2ycx4jencplc",
      "execution_count": 7,
      "outputs": [
        {
          "output_type": "stream",
          "name": "stdout",
          "text": [
            "Observations greater than AOV:  46\n"
          ]
        }
      ]
    },
    {
      "cell_type": "markdown",
      "source": [
        "__Only 46 out of 50000 orders has the order value greater than mean (387.74).___"
      ],
      "metadata": {
        "id": "l_Suf4nCctnr"
      },
      "id": "l_Suf4nCctnr"
    },
    {
      "cell_type": "markdown",
      "source": [
        "__Checking the distribution of order value throughout the dataset__"
      ],
      "metadata": {
        "id": "WxS3b4qWcwjJ"
      },
      "id": "WxS3b4qWcwjJ"
    },
    {
      "cell_type": "code",
      "source": [
        "plt.title('Order Value Histogram')\n",
        "plt.hist(ordersDf_new['actual_order_amount'])\n",
        "plt.show()"
      ],
      "metadata": {
        "colab": {
          "base_uri": "https://localhost:8080/",
          "height": 281
        },
        "id": "E5f7vk9IcuA-",
        "outputId": "99b73f6c-05fe-45e1-fbb4-5fb79afba932"
      },
      "id": "E5f7vk9IcuA-",
      "execution_count": 8,
      "outputs": [
        {
          "output_type": "display_data",
          "data": {
            "text/plain": [
              "<Figure size 432x288 with 1 Axes>"
            ],
            "image/png": "[encoded data removed]"
          },
          "metadata": {
            "needs_background": "light"
          }
        }
      ]
    },
    {
      "cell_type": "markdown",
      "source": [
        "__Clearly we can see some outliers, checking the distribution without the outliers.__"
      ],
      "metadata": {
        "id": "NeoariaEc0k3"
      },
      "id": "NeoariaEc0k3"
    },
    {
      "cell_type": "code",
      "source": [
        "quantile75_value = 169\n",
        "#ordersDf_amt = \n",
        "plt.title('Order Amount')\n",
        "plt.hist(ordersDf_new.where(ordersDf_new['actual_order_amount']<quantile75_value)['actual_order_amount'])\n",
        "plt.show()"
      ],
      "metadata": {
        "colab": {
          "base_uri": "https://localhost:8080/",
          "height": 281
        },
        "id": "A2enHJdHczMq",
        "outputId": "bee526d5-71ae-4162-a3a9-d1b3088fd27a"
      },
      "id": "A2enHJdHczMq",
      "execution_count": 9,
      "outputs": [
        {
          "output_type": "display_data",
          "data": {
            "text/plain": [
              "<Figure size 432x288 with 1 Axes>"
            ],
            "image/png": "[encoded data removed]"
          },
          "metadata": {
            "needs_background": "light"
          }
        }
      ]
    },
    {
      "cell_type": "markdown",
      "source": [
        "___Checking this distribution, it is seen that majority of sneakers are falling in the range 130 - 170.___"
      ],
      "metadata": {
        "id": "sCDr7jqGc5RN"
      },
      "id": "sCDr7jqGc5RN"
    },
    {
      "cell_type": "markdown",
      "source": [
        "__We can check the brands or sneaker company of the sneakers which have the value more than mean. Maybe these sneakers belong to very expensive brands.__"
      ],
      "metadata": {
        "id": "Ruk3KlBJc70q"
      },
      "id": "Ruk3KlBJc70q"
    },
    {
      "cell_type": "code",
      "source": [
        ""
      ],
      "metadata": {
        "id": "M3bwaZSac5q_"
      },
      "id": "M3bwaZSac5q_",
      "execution_count": 9,
      "outputs": []
    }
  ],
  "metadata": {
    "kernelspec": {
      "display_name": "Python 3",
      "language": "python",
      "name": "python3"
    },
    "language_info": {
      "codemirror_mode": {
        "name": "ipython",
        "version": 3
      },
      "file_extension": ".py",
      "mimetype": "text/x-python",
      "name": "python",
      "nbconvert_exporter": "python",
      "pygments_lexer": "ipython3",
      "version": "3.8.8"
    },
    "colab": {
      "name": "ShopifyQuestion1.ipynb",
      "provenance": [],
      "include_colab_link": true
    }
  },
  "nbformat": 4,
  "nbformat_minor": 5
}